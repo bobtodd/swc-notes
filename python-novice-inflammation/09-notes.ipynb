{
 "cells": [
  {
   "cell_type": "markdown",
   "metadata": {},
   "source": [
    "# Lesson 9 Notes: Debugging"
   ]
  },
  {
   "cell_type": "markdown",
   "metadata": {},
   "source": [
    "These are some notes for [Software Carpentry](https://software-carpentry.org/)'s tutorial [*Programming with Python*](http://swcarpentry.github.io/python-novice-inflammation/).  The web page for this lesson can be found [here](http://swcarpentry.github.io/python-novice-inflammation/09-debugging/)."
   ]
  },
  {
   "cell_type": "markdown",
   "metadata": {},
   "source": [
    "## The Goal\n",
    "\n",
    "> Debug **systematically**"
   ]
  },
  {
   "cell_type": "markdown",
   "metadata": {},
   "source": [
    "## Know What It's Supposed to Do"
   ]
  },
  {
   "cell_type": "markdown",
   "metadata": {},
   "source": [
    "You need to know when it *should* fail.  Try to figure out a scenario where\n",
    "\n",
    "> given **these conditions** it should produce **that result**."
   ]
  },
  {
   "cell_type": "markdown",
   "metadata": {},
   "source": [
    "**The problem:** you often write scientific software *because* you **don't know what's going to happen**.\n",
    "\n",
    "But you should be able to home in on some **extreme cases** where logic or a paper and pencil calculation should tell you what will happen."
   ]
  },
  {
   "cell_type": "markdown",
   "metadata": {},
   "source": [
    "### Checklist: Rules of Thumb"
   ]
  },
  {
   "cell_type": "markdown",
   "metadata": {},
   "source": [
    "Try the following...\n",
    "\n",
    "1. **Test with simplified data.**\n",
    "    * Try something where you could calculate the answer by hand.\n",
    "\n",
    "2. **Test a simplified case.**\n",
    "    * This is the **assume a spherical elephant** case.\n",
    "\n",
    "3. **Compare to an oracle.**\n",
    "    * Match results to a trusted source, like\n",
    "        * experimental data\n",
    "        * an earlier program\n",
    "        * etc.\n",
    "\n",
    "4. **Check conservation laws.**\n",
    "    * Make sure that **invariants stay invariant**, like\n",
    "        * the total amount of mass\n",
    "        * the total momentum\n",
    "        * the total number of items, e.g. hospital patients, in the records\n",
    "        * etc.\n",
    "\n",
    "5. **Visualize.**\n",
    "    * Great to see if there are obvious errors, but hard to compare two visualizations in general."
   ]
  },
  {
   "cell_type": "markdown",
   "metadata": {},
   "source": [
    "## Make It Fail Every Time"
   ]
  },
  {
   "cell_type": "markdown",
   "metadata": {},
   "source": [
    "Find a **test case** that **guarantees failure**.\n",
    "\n",
    "It's hard to debug an **intermittent failure**, since\n",
    "\n",
    "* it takes time to repeat the failure, and\n",
    "* you're likely to scroll past it.\n",
    "\n",
    "This is also good for checking your code is **\"plugged in\"**, i.e. that you're calling the function you think you are, that you're testing the right version, etc."
   ]
  },
  {
   "cell_type": "markdown",
   "metadata": {},
   "source": [
    "## Make It Fail Fast"
   ]
  },
  {
   "cell_type": "markdown",
   "metadata": {},
   "source": [
    "The faster the program fails,\n",
    "\n",
    "* the less time you waste **finding the error**, and\n",
    "* the less time you have to **lose focus**."
   ]
  },
  {
   "cell_type": "markdown",
   "metadata": {},
   "source": [
    "Shorten the **gaps between failures**: make sure there are **few lines of code** that could lead to failure."
   ]
  },
  {
   "cell_type": "markdown",
   "metadata": {},
   "source": [
    "## Change One Thing at a Time, For a Reason"
   ]
  },
  {
   "cell_type": "markdown",
   "metadata": {},
   "source": [
    "Use changes to\n",
    "\n",
    "* **gather information**\n",
    "    * e.g. \"does the bug remain if we change the order of loops?\", or\n",
    "* **test a fix**\n",
    "    * e.g. \"does the bug go away if we sort the input data?\"\n",
    "\n",
    "Make **one change at a time**, then **retest immediately**.  Run **all the tests**, to make sure your fix doesn't introduce a different bug."
   ]
  },
  {
   "cell_type": "markdown",
   "metadata": {},
   "source": [
    "## Keep Track of What You've Done"
   ]
  },
  {
   "cell_type": "markdown",
   "metadata": {},
   "source": [
    "You're trying to make **systematic improvement**.  You need to know the **steps that got you to where you are**.\n",
    "\n",
    "This especially helps when **asking for assistance.** You can be specific about what you've tried already.\n",
    "\n",
    "**Pro-Tip: version control.** This helps you reset to a previous state if needed."
   ]
  },
  {
   "cell_type": "markdown",
   "metadata": {},
   "source": [
    "## Be Humble: Ask for Help"
   ]
  },
  {
   "cell_type": "markdown",
   "metadata": {},
   "source": [
    "Asking for help can be useful because...\n",
    "\n",
    "* **explaining your thoughts** to someone else can help spot inconsistencies\n",
    "* you can avoid **confirmation bias**, since you *want* your program to work, but someone else isn't as invested\n",
    "\n",
    "Take time to **learn from mistakes**:\n",
    "\n",
    "* deepen your **knowledge of libraries**\n",
    "* iron out **kinks in your model**\n",
    "\n",
    "Training yourself to avoid certain mistakes will **save time in the long run.**"
   ]
  },
  {
   "cell_type": "code",
   "execution_count": null,
   "metadata": {},
   "outputs": [],
   "source": []
  }
 ],
 "metadata": {
  "kernelspec": {
   "display_name": "Python [default]",
   "language": "python",
   "name": "python3"
  },
  "language_info": {
   "codemirror_mode": {
    "name": "ipython",
    "version": 3
   },
   "file_extension": ".py",
   "mimetype": "text/x-python",
   "name": "python",
   "nbconvert_exporter": "python",
   "pygments_lexer": "ipython3",
   "version": "3.5.2"
  }
 },
 "nbformat": 4,
 "nbformat_minor": 1
}
