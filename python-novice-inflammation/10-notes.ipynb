{
 "cells": [
  {
   "cell_type": "markdown",
   "metadata": {},
   "source": [
    "# Lesson 10 Notes: Command-Line Programs"
   ]
  },
  {
   "cell_type": "markdown",
   "metadata": {},
   "source": [
    "These are some notes for [Software Carpentry](https://software-carpentry.org/)'s tutorial [*Programming with Python*](http://swcarpentry.github.io/python-novice-inflammation/).  The web page for this lesson can be found [here](http://swcarpentry.github.io/python-novice-inflammation/10-cmdline/)."
   ]
  },
  {
   "cell_type": "markdown",
   "metadata": {},
   "source": [
    "## The Goal\n",
    "\n",
    "> Interact with Python from the command line"
   ]
  },
  {
   "cell_type": "markdown",
   "metadata": {},
   "source": [
    "## Think Ahead: How do you want things to work?"
   ]
  },
  {
   "cell_type": "markdown",
   "metadata": {},
   "source": [
    "We want a program we can\n",
    "\n",
    "* **call** from the command line;\n",
    "* **feed** a file;\n",
    "* **flag** to do various operations;\n",
    "* **include** in a pipeline of data processing.\n",
    "\n",
    "Something like the following (**NB:** we use **`$`** to represent the command prompt):\n",
    "\n",
    "```bash\n",
    "$ python code/readings_04.py --mean data/inflammation-01.csv\n",
    "5.45\n",
    "5.425\n",
    "6.1\n",
    "...\n",
    "6.4\n",
    "7.05\n",
    "5.9\n",
    "```\n",
    "\n",
    "Here it's giving the **mean inflammation per patient**."
   ]
  },
  {
   "cell_type": "markdown",
   "metadata": {},
   "source": [
    "We might also want to **stitch it together** with other command line tools to look only at the **minimum of the first 4 lines**.\n",
    "\n",
    "```bash\n",
    "$ head -4 data/inflammation-01.csv | python code/readings_04.py --min\n",
    "```\n",
    "\n",
    "You've **gotta love piping**."
   ]
  },
  {
   "cell_type": "markdown",
   "metadata": {},
   "source": [
    "Or we could get the **maximum in several files** one after another:\n",
    "\n",
    "```bash\n",
    "$ python code/readings_04.py --max data/inflammation-*.csv\n",
    "```"
   ]
  },
  {
   "cell_type": "markdown",
   "metadata": {},
   "source": [
    "### Basic Functionality"
   ]
  },
  {
   "cell_type": "markdown",
   "metadata": {},
   "source": [
    "Here are things we **want the program to do**:\n",
    "\n",
    "* read a **file**, otherwise get data from **standard input**;\n",
    "* read **several files** and report statistics for each **separately**;\n",
    "* **select** the statistic using **flags** like `--max`, `--min`, `--mean`."
   ]
  },
  {
   "cell_type": "markdown",
   "metadata": {},
   "source": [
    "## Command-Line Arguments"
   ]
  },
  {
   "cell_type": "markdown",
   "metadata": {},
   "source": [
    "In a text editor, create a file called `sys_version.py` and save the following text in the file.\n",
    "\n",
    "```python\n",
    "# inside sys_version.py\n",
    "import sys\n",
    "print('version is', sys.version)\n",
    "```\n",
    "\n",
    "`sys`, short for **system**, is a library that gives us access to our system.  In particular the function `.version` allows us to figure out the version of Python we're running."
   ]
  },
  {
   "cell_type": "markdown",
   "metadata": {},
   "source": [
    "Go to the command line, navigate to the **folder containing `sys_version.py`**, and type the following.\n",
    "\n",
    "```bash\n",
    "$ python sys_version.py\n",
    "version is 3.4.3+ (default, Jul 28 2015, 13:17:50)\n",
    "[GCC 4.9.3]\n",
    "```"
   ]
  },
  {
   "cell_type": "markdown",
   "metadata": {},
   "source": [
    "Create `argv_list.py` and save this in the file:\n",
    "\n",
    "```python\n",
    "# inside argv_list.py\n",
    "import sys\n",
    "print('sys.argv is', sys.argv)\n",
    "```\n",
    "\n",
    "**Translation:** `argv` stands for **argument values**, the parameters you feed to the function as arguments."
   ]
  },
  {
   "cell_type": "markdown",
   "metadata": {},
   "source": [
    "The output:\n",
    "\n",
    "```bash\n",
    "$ python argv_list.py\n",
    "sys.argv is ['argv_list.py']\n",
    "```\n",
    "\n",
    "If we pass no parameters, then the list only contains the name of the program.  Otherwise we get\n",
    "\n",
    "```bash\n",
    "$ python argv_list.py first second third\n",
    "sys.argv is ['argv_list.py', 'first', 'second', 'third']\n",
    "```"
   ]
  },
  {
   "cell_type": "markdown",
   "metadata": {},
   "source": [
    "## Creating Our Program"
   ]
  },
  {
   "cell_type": "markdown",
   "metadata": {},
   "source": [
    "### Phase 1"
   ]
  },
  {
   "cell_type": "markdown",
   "metadata": {},
   "source": [
    "Create a file `readings.py`:\n",
    "\n",
    "```bash\n",
    "$ touch readings_01.py\n",
    "```"
   ]
  },
  {
   "cell_type": "markdown",
   "metadata": {},
   "source": [
    "Then add some lines of code to it using the `cat` command (for reference [see here](http://www.linfo.org/cat.html) -- run the command on the file and then keep typing, press `[enter]` followed by `[ctrl]-d` when done):\n",
    "\n",
    "```bash\n",
    "$ cat >> readings_01.py\n",
    "import sys\n",
    "import numpy\n",
    "\n",
    "def main():\n",
    "    script = sys.argv[0]\n",
    "    filename = sys.argv[1]\n",
    "    data = numpy.loadtxt(filename, delimiter=',')\n",
    "    for m in numpy.mean(data, axis=1):\n",
    "        print(m)\n",
    "```\n",
    "\n",
    "We've called the \"main\" function `main()`, but you can really **call it whatever you want**.\n",
    "\n",
    "Test it out:\n",
    "\n",
    "```bash\n",
    "$ python readings_01.py data/inflammation-01.csv\n",
    "```\n",
    "\n",
    "**Nothing happens!**  That's because we haven't **used** the function!"
   ]
  },
  {
   "cell_type": "markdown",
   "metadata": {},
   "source": [
    "### Phase 2"
   ]
  },
  {
   "cell_type": "markdown",
   "metadata": {},
   "source": [
    "Let's use the function.\n",
    "\n",
    "Start with a new file.\n",
    "\n",
    "```bash\n",
    "$ touch readings_02.py\n",
    "$ cat >> readings_02.py\n",
    "import sys\n",
    "import numpy\n",
    "\n",
    "def main():\n",
    "    script = sys.argv[0]\n",
    "    filename = sys.argv[1]\n",
    "    data = numpy.loadtxt(filename, delimiter=',')\n",
    "    for m in numpy.mean(data, axis=1):\n",
    "        print(m)\n",
    "\n",
    "if __name__ == '__main__':\n",
    "   main()\n",
    "```\n",
    "\n",
    "And run it:\n",
    "\n",
    "```bash\n",
    "$ python readings_02.py data/inflammation-01.csv\n",
    "5.45\n",
    "5.425\n",
    "6.1\n",
    "5.9\n",
    "5.55\n",
    "6.225\n",
    "5.975\n",
    "6.65\n",
    "6.625\n",
    "6.525\n",
    "6.775\n",
    "5.8\n",
    "6.225\n",
    "5.75\n",
    "5.225\n",
    "6.3\n",
    "6.55\n",
    "5.7\n",
    "5.85\n",
    "6.55\n",
    "5.775\n",
    "5.825\n",
    "6.175\n",
    "6.1\n",
    "5.8\n",
    "6.425\n",
    "6.05\n",
    "6.025\n",
    "6.175\n",
    "6.55\n",
    "6.175\n",
    "6.35\n",
    "6.725\n",
    "6.125\n",
    "7.075\n",
    "5.725\n",
    "5.925\n",
    "6.15\n",
    "6.075\n",
    "5.75\n",
    "5.975\n",
    "5.725\n",
    "6.3\n",
    "5.9\n",
    "6.75\n",
    "5.925\n",
    "7.225\n",
    "6.15\n",
    "5.95\n",
    "6.275\n",
    "5.7\n",
    "6.1\n",
    "6.825\n",
    "5.975\n",
    "6.725\n",
    "5.7\n",
    "6.25\n",
    "6.4\n",
    "7.05\n",
    "5.9\n",
    "```"
   ]
  },
  {
   "cell_type": "markdown",
   "metadata": {},
   "source": [
    "#### Note: the Magic `__name__ == __main__` Incantation"
   ]
  },
  {
   "cell_type": "markdown",
   "metadata": {},
   "source": [
    "Two issues are at play here:\n",
    "\n",
    "* when you **import** a file, its name is stored in `__name__`\n",
    "    * so `import readings.py` sets `__name__ = readings`;\n",
    "* when you **run** a script in `bash`, then `__name__` is sent to `__main__`\n",
    "    * so the incantation says, \"If the script is run **as a script**, then execute...\"."
   ]
  },
  {
   "cell_type": "markdown",
   "metadata": {},
   "source": [
    "## Handling Multiple Files"
   ]
  },
  {
   "cell_type": "markdown",
   "metadata": {},
   "source": [
    "### Start Small"
   ]
  },
  {
   "cell_type": "markdown",
   "metadata": {},
   "source": [
    "First start with smaller files, where you can check things by hand if necessary.\n",
    "\n",
    "We have some files with just a couple lines of 3-days-worth of data.\n",
    "\n",
    "```bash\n",
    "$ ls data/small-*.csv\n",
    "data/small-01.csv  data/small-02.csv  data/small-03.csv\n",
    "```\n",
    "\n",
    "Check the contents:\n",
    "\n",
    "```bash\n",
    "$ cat data/small-01.csv\n",
    "0,0,1\n",
    "0,1,2\n",
    "```\n",
    "\n",
    "Try the program:\n",
    "\n",
    "```bash\n",
    "$ python readings_02.py data/small-01.csv\n",
    "0.333333333333\n",
    "1.0\n",
    "```\n",
    "\n",
    "You can **check the calculation yourself!**  So ***now*** we know the program works as expected."
   ]
  },
  {
   "cell_type": "markdown",
   "metadata": {},
   "source": [
    "### Figure Out the Logic"
   ]
  },
  {
   "cell_type": "markdown",
   "metadata": {},
   "source": [
    "We need to\n",
    "\n",
    "* process files **one at a time**, independently\n",
    "    * so we need a loop that executes **once per file**;\n",
    "* the files are **arguments**\n",
    "    * but `sys.argv[0]` contains the script name, so we need to **exclude that**;\n",
    "* we don't know **how many files** beforehand\n",
    "    * so we need to handle an indeterminate number of files.\n",
    "\n",
    "Solution:\n",
    "\n",
    "> slice the array starting at index 1: `sys.argv[1:]`.\n",
    "\n",
    "Put that all together:\n",
    "\n",
    "```bash\n",
    "$ touch readings_03.py\n",
    "$ cat >> readings_03.py\n",
    "import sys\n",
    "import numpy\n",
    "\n",
    "def main():\n",
    "    script = sys.argv[0]\n",
    "    for filename in sys.argv[1:]:\n",
    "        data = numpy.loadtxt(filename, delimiter=',')\n",
    "        for m in numpy.mean(data, axis=1):\n",
    "            print(m)\n",
    "\n",
    "if __name__ == '__main__':\n",
    "   main()\n",
    "```\n",
    "\n",
    "And run it:\n",
    "\n",
    "```bash\n",
    "$ python readings_03.py data/small-01.csv data/small-02.csv\n",
    "0.333333333333\n",
    "1.0\n",
    "13.6666666667\n",
    "11.0\n",
    "```"
   ]
  },
  {
   "cell_type": "markdown",
   "metadata": {},
   "source": [
    "## Handling Command-Line Flags"
   ]
  },
  {
   "cell_type": "markdown",
   "metadata": {},
   "source": [
    "We want to change behavior based on the flags `--max`, `--min`, and `--mean`.\n",
    "\n",
    "We could do this with simple `if`-statements like so:\n",
    "\n",
    "```bash\n",
    "$ touch readings_04.py\n",
    "$ cat >> readings_04.py\n",
    "import sys\n",
    "import numpy\n",
    "\n",
    "def main():\n",
    "    script = sys.argv[0]\n",
    "    action = sys.argv[1]\n",
    "    filenames = sys.argv[2:]\n",
    "\n",
    "    for f in filenames:\n",
    "        data = numpy.loadtxt(f, delimiter=',')\n",
    "\n",
    "        if action == '--min':\n",
    "            values = numpy.min(data, axis=1)\n",
    "        elif action == '--mean':\n",
    "            values = numpy.mean(data, axis=1)\n",
    "        elif action == '--max':\n",
    "            values = numpy.max(data, axis=1)\n",
    "\n",
    "        for m in values:\n",
    "            print(m)\n",
    "\n",
    "if __name__ == '__main__':\n",
    "   main()\n",
    "```\n",
    "\n",
    "Test it out:\n",
    "\n",
    "```bash\n",
    "$ python readings_04.py --min data/small-01.csv data/small-02.csv\n",
    "0.0\n",
    "0.0\n",
    "9.0\n",
    "5.0\n",
    "```"
   ]
  },
  {
   "cell_type": "markdown",
   "metadata": {},
   "source": [
    "That works, but it has some **serious flaws**:\n",
    "\n",
    "* `main()` contains a lot of logic, and the basic **idea** of the program isn't clear;\n",
    "* the program will **run** even if we **use it wrong**\n",
    "    * running with **only a flag** or **only a filename** will not throw an exception;\n",
    "* the program **doesn't check the flags** to see if it can handle the action."
   ]
  },
  {
   "cell_type": "markdown",
   "metadata": {},
   "source": [
    "### Improved Version"
   ]
  },
  {
   "cell_type": "markdown",
   "metadata": {},
   "source": [
    "The new version will\n",
    "\n",
    "* **`assert` the flags** only have allowed values;\n",
    "* handle **processing based on flags** in a separate function.\n",
    "\n",
    "Like so:\n",
    "\n",
    "```bash\n",
    "$ touch readings_05.py\n",
    "$ cat >> readings_05.py\n",
    "import sys\n",
    "import numpy\n",
    "\n",
    "def main():\n",
    "    script = sys.argv[0]\n",
    "    action = sys.argv[1]\n",
    "    filenames = sys.argv[2:]\n",
    "    assert action in ['--min', '--mean', '--max'], \\\n",
    "           'Action is not one of --min, --mean, or --max: ' + action\n",
    "    for f in filenames:\n",
    "        process(f, action)\n",
    "\n",
    "def process(filename, action):\n",
    "    data = numpy.loadtxt(filename, delimiter=',')\n",
    "\n",
    "    if action == '--min':\n",
    "        values = numpy.min(data, axis=1)\n",
    "    elif action == '--mean':\n",
    "        values = numpy.mean(data, axis=1)\n",
    "    elif action == '--max':\n",
    "        values = numpy.max(data, axis=1)\n",
    "\n",
    "    for m in values:\n",
    "        print(m)\n",
    "\n",
    "if __name__ == '__main__':\n",
    "   main()\n",
    "```\n",
    "\n",
    "Slightly longer, **a lot clearer**."
   ]
  },
  {
   "cell_type": "markdown",
   "metadata": {},
   "source": [
    "## Handling Standard Input"
   ]
  },
  {
   "cell_type": "markdown",
   "metadata": {},
   "source": [
    "### A Toy Script"
   ]
  },
  {
   "cell_type": "markdown",
   "metadata": {},
   "source": [
    "Let's first just figure out how to deal with standard input.\n",
    "\n",
    "Create a file `count_stdin.py` that counts the number of lines read into standard input.\n",
    "\n",
    "```bash\n",
    "$ touch count_stdin.py\n",
    "$ cat >> count_stdin.py\n",
    "import sys\n",
    "\n",
    "count = 0\n",
    "for line in sys.stdin:\n",
    "    count += 1\n",
    "\n",
    "print(count, 'lines in standard input')\n",
    "```\n",
    "\n",
    "**The Magic:** `sys.stdin` allows us to connect to standard input **as if we had opened a file.**"
   ]
  },
  {
   "cell_type": "markdown",
   "metadata": {},
   "source": [
    "Try it.\n",
    "\n",
    "But remember: **we *redirect* standard input with `<`.**\n",
    "\n",
    "```bash\n",
    "$ python count_stdin.py < data/small-01.csv\n",
    "2 lines in standard input\n",
    "```\n",
    "\n",
    "**Warning:** if you forget the `<`, then there's no standard input, and your program will **wait forever.**"
   ]
  },
  {
   "cell_type": "markdown",
   "metadata": {},
   "source": [
    "### Final Version"
   ]
  },
  {
   "cell_type": "markdown",
   "metadata": {},
   "source": [
    "We modify the program so that\n",
    "\n",
    "* **if** there are no filenames, it reads from **standard input**;\n",
    "* **else** it processes the files normally.\n",
    "\n",
    "**Useful tidbit:** `numpy.loadtxt` handles files and standard input in the same way, so **it doesn't care which we feed it.**\n",
    "\n",
    "The new script:\n",
    "\n",
    "```bash\n",
    "$ touch readings_06.py\n",
    "$ cat >> readings_06.py\n",
    "import sys\n",
    "import numpy\n",
    "\n",
    "def main():\n",
    "    script = sys.argv[0]\n",
    "    action = sys.argv[1]\n",
    "    filenames = sys.argv[2:]\n",
    "    assert action in ['--min', '--mean', '--max'], \\\n",
    "           'Action is not one of --min, --mean, or --max: ' + action\n",
    "    if len(filenames) == 0:\n",
    "        process(sys.stdin, action)\n",
    "    else:\n",
    "        for f in filenames:\n",
    "            process(f, action)\n",
    "\n",
    "def process(filename, action):\n",
    "    data = numpy.loadtxt(filename, delimiter=',')\n",
    "\n",
    "    if action == '--min':\n",
    "        values = numpy.min(data, axis=1)\n",
    "    elif action == '--mean':\n",
    "        values = numpy.mean(data, axis=1)\n",
    "    elif action == '--max':\n",
    "        values = numpy.max(data, axis=1)\n",
    "\n",
    "    for m in values:\n",
    "        print(m)\n",
    "\n",
    "if __name__ == '__main__':\n",
    "   main()\n",
    "```\n",
    "\n",
    "Try it:\n",
    "\n",
    "```bash\n",
    "$ python readings_06.py --mean < data/small-01.csv\n",
    "0.333333333333\n",
    "1.0\n",
    "```\n",
    "\n",
    "Nice.  **Done.**"
   ]
  },
  {
   "cell_type": "code",
   "execution_count": null,
   "metadata": {},
   "outputs": [],
   "source": []
  }
 ],
 "metadata": {
  "kernelspec": {
   "display_name": "Python [default]",
   "language": "python",
   "name": "python3"
  },
  "language_info": {
   "codemirror_mode": {
    "name": "ipython",
    "version": 3
   },
   "file_extension": ".py",
   "mimetype": "text/x-python",
   "name": "python",
   "nbconvert_exporter": "python",
   "pygments_lexer": "ipython3",
   "version": "3.5.2"
  }
 },
 "nbformat": 4,
 "nbformat_minor": 1
}
