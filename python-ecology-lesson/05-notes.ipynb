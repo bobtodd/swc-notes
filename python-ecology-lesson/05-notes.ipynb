{
 "cells": [
  {
   "cell_type": "markdown",
   "metadata": {},
   "source": [
    "# Lesson 5: Data workflows and automation"
   ]
  },
  {
   "cell_type": "markdown",
   "metadata": {},
   "source": [
    "These are some notes for [Data Carpentry](http://www.datacarpentry.org)'s tutorial [*Data Analysis and Visualization in Python*](http://www.datacarpentry.org/python-ecology-lesson/).  The web page for this lesson can be found [here](http://www.datacarpentry.org/python-ecology-lesson/05-loops-and-functions)."
   ]
  },
  {
   "cell_type": "markdown",
   "metadata": {},
   "source": [
    "## Goal\n",
    "\n",
    "> Work with loops, functions, and conditions"
   ]
  },
  {
   "cell_type": "markdown",
   "metadata": {},
   "source": [
    "## Basic Idea"
   ]
  },
  {
   "cell_type": "markdown",
   "metadata": {},
   "source": [
    "We can use Pandas to work with data as in a **spreadsheet**.\n",
    "\n",
    "But we'd like to use Python as a programming language to **automate tasks**."
   ]
  },
  {
   "cell_type": "markdown",
   "metadata": {},
   "source": [
    "## `for` Loops"
   ]
  },
  {
   "cell_type": "markdown",
   "metadata": {},
   "source": [
    "The `for` loop allows us to **repeatedly apply** a **collection of commands**.  This can include\n",
    "\n",
    "* calculations\n",
    "* opening files\n",
    "* saving files\n",
    "* renaming files\n",
    "* etc.\n",
    "\n",
    "This ability to repeat commands allows us to\n",
    "\n",
    "* **save time** and\n",
    "* **reduce errors**."
   ]
  },
  {
   "cell_type": "markdown",
   "metadata": {},
   "source": [
    "Let's look at **things we see in the zoo**."
   ]
  },
  {
   "cell_type": "code",
   "execution_count": 1,
   "metadata": {},
   "outputs": [],
   "source": [
    "animals = ['lion', 'tiger', 'crocodile', 'vulture', 'hippo']"
   ]
  },
  {
   "cell_type": "code",
   "execution_count": 2,
   "metadata": {},
   "outputs": [
    {
     "name": "stdout",
     "output_type": "stream",
     "text": [
      "lion\n",
      "tiger\n",
      "crocodile\n",
      "vulture\n",
      "hippo\n"
     ]
    }
   ],
   "source": [
    "for creature in animals:\n",
    "    print(creature)"
   ]
  },
  {
   "cell_type": "markdown",
   "metadata": {},
   "source": [
    "**The idea:**\n",
    "\n",
    "* Take the **collection** `animals`\n",
    "    * **Assign** the first element to the variable `creature`, i.e. `creature = 'lion'`\n",
    "        * **Execute** the **code block** using this value of `creature`\n",
    "    * **Assign** the second element to the variable `creature`, i.e. `creature = 'tiger'`\n",
    "        * **Execute** the code block using the new value of `creature`\n",
    "    * ...\n",
    "    * ...\n",
    "    * **Assign** the last element to the variable `creature`, i.e. `creature = 'hippo'`\n",
    "        * **Execute** the code block using the new value of `creature`\n",
    "    * **Exit** the loop\n",
    "* The variable `creature` **still exists**\n",
    "    * It retains the **last assigned value**"
   ]
  },
  {
   "cell_type": "code",
   "execution_count": 3,
   "metadata": {},
   "outputs": [
    {
     "name": "stdout",
     "output_type": "stream",
     "text": [
      "The loop variable is now: hippo\n"
     ]
    }
   ],
   "source": [
    "for creature in animals:\n",
    "    pass # do nothing and skip to the next iteration\n",
    "\n",
    "print('The loop variable is now: ' + creature)"
   ]
  },
  {
   "cell_type": "markdown",
   "metadata": {},
   "source": [
    "### Exercise"
   ]
  },
  {
   "cell_type": "markdown",
   "metadata": {},
   "source": [
    "1. What happens if we don't include the `pass` statement?\n",
    "\n",
    "2. Rewrite the loop so that the animals are separated by commas, not new lines (Hint: You can concatenate strings using a plus sign. For example, `print(string1 + string2)` outputs `'string1string2'`)."
   ]
  },
  {
   "cell_type": "markdown",
   "metadata": {},
   "source": [
    "## Automating data processing using `for` Loops"
   ]
  },
  {
   "cell_type": "markdown",
   "metadata": {},
   "source": [
    "**Task:** separate the `surveys.csv` data into **files by year**.\n",
    "\n",
    "It's **25 years of data**, so that's a lot of files.  **Automate!**"
   ]
  },
  {
   "cell_type": "markdown",
   "metadata": {},
   "source": [
    "### Prepare"
   ]
  },
  {
   "cell_type": "markdown",
   "metadata": {},
   "source": [
    "Let's **create a directory** to store the data.\n",
    "\n",
    "Use the **`os`** library to access **Unix shell** commands."
   ]
  },
  {
   "cell_type": "code",
   "execution_count": 4,
   "metadata": {},
   "outputs": [],
   "source": [
    "import os\n",
    "\n",
    "# like Unix mkdir\n",
    "# comment out if directory already exists\n",
    "#os.mkdir('data/yearly_files')"
   ]
  },
  {
   "cell_type": "markdown",
   "metadata": {},
   "source": [
    "**Check** that it worked."
   ]
  },
  {
   "cell_type": "code",
   "execution_count": 5,
   "metadata": {},
   "outputs": [
    {
     "data": {
      "text/plain": [
       "['out.csv',\n",
       " 'plots.csv',\n",
       " 'species.csv',\n",
       " 'speciesSubset.csv',\n",
       " 'survey2001.csv',\n",
       " 'survey2002.csv',\n",
       " 'surveys.csv',\n",
       " 'yearly_files']"
      ]
     },
     "execution_count": 5,
     "metadata": {},
     "output_type": "execute_result"
    }
   ],
   "source": [
    "# like Unix ls\n",
    "os.listdir('data')"
   ]
  },
  {
   "cell_type": "markdown",
   "metadata": {},
   "source": [
    "### Process"
   ]
  },
  {
   "cell_type": "markdown",
   "metadata": {},
   "source": [
    "We want to...\n",
    "\n",
    "* **load** the data into memory from the file,\n",
    "* **select** a subset of the data using **criteria**,\n",
    "* **write** the selected data to a CSV file."
   ]
  },
  {
   "cell_type": "code",
   "execution_count": 6,
   "metadata": {},
   "outputs": [],
   "source": [
    "import pandas as pd"
   ]
  },
  {
   "cell_type": "markdown",
   "metadata": {},
   "source": [
    "An example of the **basic steps** for **one year**."
   ]
  },
  {
   "cell_type": "code",
   "execution_count": 7,
   "metadata": {},
   "outputs": [],
   "source": [
    "# Load the data into a DataFrame\n",
    "#surveys_df = pd.read_csv('https://ndownloader.figshare.com/files/2292172')\n",
    "surveys_df = pd.read_csv('data/surveys.csv')\n",
    "\n",
    "# Select only data for 2002\n",
    "surveys2002 = surveys_df[surveys_df.year == 2002]\n",
    "\n",
    "# Write the new DataFrame to a csv file\n",
    "surveys2002.to_csv('data/yearly_files/surveys2002.csv')"
   ]
  },
  {
   "cell_type": "markdown",
   "metadata": {},
   "source": [
    "Our **job**: get the **last two lines** to repeat **for each year**."
   ]
  },
  {
   "cell_type": "markdown",
   "metadata": {},
   "source": [
    "**Advice:** build up the procedure **step by step**."
   ]
  },
  {
   "cell_type": "markdown",
   "metadata": {},
   "source": [
    "We could just **look** at the years contained in the data..."
   ]
  },
  {
   "cell_type": "code",
   "execution_count": 8,
   "metadata": {},
   "outputs": [
    {
     "data": {
      "text/plain": [
       "0    1977\n",
       "1    1977\n",
       "2    1977\n",
       "3    1977\n",
       "4    1977\n",
       "Name: year, dtype: int64"
      ]
     },
     "execution_count": 8,
     "metadata": {},
     "output_type": "execute_result"
    }
   ],
   "source": [
    "#surveys_df['year']\n",
    "surveys_df['year'][:5]"
   ]
  },
  {
   "cell_type": "code",
   "execution_count": 9,
   "metadata": {},
   "outputs": [
    {
     "data": {
      "text/plain": [
       "35544    2002\n",
       "35545    2002\n",
       "35546    2002\n",
       "35547    2002\n",
       "35548    2002\n",
       "Name: year, dtype: int64"
      ]
     },
     "execution_count": 9,
     "metadata": {},
     "output_type": "execute_result"
    }
   ],
   "source": [
    "surveys_df['year'][-5:]"
   ]
  },
  {
   "cell_type": "markdown",
   "metadata": {},
   "source": [
    "The years are 1977 through 2002.  We **could** create a list **by hand** containing those years.\n",
    "\n",
    "But we want the process to be **automatic**.  We should get the years **directly from the data**."
   ]
  },
  {
   "cell_type": "markdown",
   "metadata": {},
   "source": [
    "Use the **`unique()`** method."
   ]
  },
  {
   "cell_type": "code",
   "execution_count": 10,
   "metadata": {},
   "outputs": [
    {
     "data": {
      "text/plain": [
       "array([1977, 1978, 1979, 1980, 1981, 1982, 1983, 1984, 1985, 1986, 1987,\n",
       "       1988, 1989, 1990, 1991, 1992, 1993, 1994, 1995, 1996, 1997, 1998,\n",
       "       1999, 2000, 2001, 2002])"
      ]
     },
     "execution_count": 10,
     "metadata": {},
     "output_type": "execute_result"
    }
   ],
   "source": [
    "surveys_df['year'].unique()"
   ]
  },
  {
   "cell_type": "markdown",
   "metadata": {},
   "source": [
    "That's **exactly** the list we want.  Stick it in the **loop**."
   ]
  },
  {
   "cell_type": "markdown",
   "metadata": {},
   "source": [
    "Now let's try to **get file names working**."
   ]
  },
  {
   "cell_type": "code",
   "execution_count": 11,
   "metadata": {},
   "outputs": [
    {
     "name": "stdout",
     "output_type": "stream",
     "text": [
      "data/yearly_files/surveys1977.csv\n",
      "data/yearly_files/surveys1978.csv\n",
      "data/yearly_files/surveys1979.csv\n",
      "data/yearly_files/surveys1980.csv\n",
      "data/yearly_files/surveys1981.csv\n",
      "data/yearly_files/surveys1982.csv\n",
      "data/yearly_files/surveys1983.csv\n",
      "data/yearly_files/surveys1984.csv\n",
      "data/yearly_files/surveys1985.csv\n",
      "data/yearly_files/surveys1986.csv\n",
      "data/yearly_files/surveys1987.csv\n",
      "data/yearly_files/surveys1988.csv\n",
      "data/yearly_files/surveys1989.csv\n",
      "data/yearly_files/surveys1990.csv\n",
      "data/yearly_files/surveys1991.csv\n",
      "data/yearly_files/surveys1992.csv\n",
      "data/yearly_files/surveys1993.csv\n",
      "data/yearly_files/surveys1994.csv\n",
      "data/yearly_files/surveys1995.csv\n",
      "data/yearly_files/surveys1996.csv\n",
      "data/yearly_files/surveys1997.csv\n",
      "data/yearly_files/surveys1998.csv\n",
      "data/yearly_files/surveys1999.csv\n",
      "data/yearly_files/surveys2000.csv\n",
      "data/yearly_files/surveys2001.csv\n",
      "data/yearly_files/surveys2002.csv\n"
     ]
    }
   ],
   "source": [
    "for year in surveys_df['year'].unique():\n",
    "    filename = 'data/yearly_files/surveys' + str(year) + '.csv'\n",
    "    print(filename)"
   ]
  },
  {
   "cell_type": "markdown",
   "metadata": {},
   "source": [
    "Now take a stab at the **whole loop**..."
   ]
  },
  {
   "cell_type": "code",
   "execution_count": 12,
   "metadata": {},
   "outputs": [],
   "source": [
    "# Load the data into a DataFrame\n",
    "surveys_df = pd.read_csv('data/surveys.csv')\n",
    "\n",
    "for year in surveys_df['year'].unique():\n",
    "\n",
    "    # Select data for the year\n",
    "    surveys_year = surveys_df[surveys_df.year == year]\n",
    "\n",
    "    # Write the new DataFrame to a csv file\n",
    "    filename = 'data/yearly_files/surveys' + str(year) + '.csv'\n",
    "    surveys_year.to_csv(filename)"
   ]
  },
  {
   "cell_type": "markdown",
   "metadata": {},
   "source": [
    "## Writing Unique File Names"
   ]
  },
  {
   "cell_type": "markdown",
   "metadata": {},
   "source": [
    "Notice how we **generated** the **file names**...\n",
    "\n",
    "* a string identifying **location**\n",
    "    ```python\n",
    "    'data/yearly_files/'\n",
    "    ```\n",
    "* a string giving a **grouping** for the **topic of investigation**\n",
    "    ```python\n",
    "    'surveys'\n",
    "    ```\n",
    "* a string highlighting the particular **processing applied** to get the output\n",
    "    ```python\n",
    "    str(year)\n",
    "    ```\n",
    "* a suffix denoting the **type of data**\n",
    "    ```python\n",
    "    '.csv'\n",
    "    ```\n",
    "\n",
    "That is,\n",
    "\n",
    "> the **file name recapitulates** the **data processing**."
   ]
  },
  {
   "cell_type": "markdown",
   "metadata": {},
   "source": [
    "As an added bonus, we used the **`+` operator** for **string concatenation**."
   ]
  },
  {
   "cell_type": "markdown",
   "metadata": {},
   "source": [
    "### Exercise"
   ]
  },
  {
   "cell_type": "markdown",
   "metadata": {},
   "source": [
    "1. Some of the surveys you saved are missing data (they have null values that show up as `NaN` - Not A Number - in the DataFrames and do not show up in the text files). Modify the for loop so that the entries with null values are not included in the yearly files.\n",
    "\n",
    "2. What happens if there is no data for a year in the sequence (for example, imagine we had used 1976 as the start year in `range`)?\n",
    "\n",
    "3. Let's say you only want to look at data from a given multiple of years. How would you modify your loop in order to generate a data file for only every 5th year, starting from 1977?\n",
    "\n",
    "4. Instead of splitting out the data by years, a colleague wants to do analyses each species separately. How would you write a unique `csv` file for each species?"
   ]
  },
  {
   "cell_type": "markdown",
   "metadata": {},
   "source": [
    "## Repackaging & Reusing Code: Functions"
   ]
  },
  {
   "cell_type": "markdown",
   "metadata": {},
   "source": [
    "### Basic Idea"
   ]
  },
  {
   "cell_type": "markdown",
   "metadata": {},
   "source": [
    "That's **not the last time** you're going to separate data into multiple files.\n",
    "\n",
    "You **do not** want to **cut and paste** that code loop into other programs each time you want to use it.  That would be\n",
    "\n",
    "* tedious\n",
    "* error-prone.\n",
    "\n",
    "**Functions** allow us to repackage code **for later use**.  Functions can\n",
    "\n",
    "* take **arguments**,\n",
    "* produce **output**,\n",
    "\n",
    "but might **not** do **either**.\n",
    "\n",
    "The **variables inside** a function **only live inside** the function.\n",
    "\n",
    "If the **local** variable name  -- i.e. the name of the variable **inside** the function -- happens to be the **same** as a **variable outside**, the function **ignores the outside variable**.\n",
    "\n",
    "More generally,\n",
    "\n",
    "* **methods** are just functions, and\n",
    "* **libraries** are just collections of functions."
   ]
  },
  {
   "cell_type": "markdown",
   "metadata": {},
   "source": [
    "**Format:**\n",
    "\n",
    "* start with **`def`**\n",
    "* then the function **name**\n",
    "* **arguments**\n",
    "* indented **code block**\n",
    "* finally a **`return`** statement"
   ]
  },
  {
   "cell_type": "code",
   "execution_count": 13,
   "metadata": {},
   "outputs": [],
   "source": [
    "def this_is_the_function_name(input_argument1, input_argument2):\n",
    "\n",
    "    # The body of the function is indented\n",
    "    # This function prints the two arguments to screen\n",
    "    print('The function arguments are:', input_argument1, input_argument2, '(this is done inside the function!)')\n",
    "\n",
    "    # And returns their product\n",
    "    return input_argument1 * input_argument2"
   ]
  },
  {
   "cell_type": "code",
   "execution_count": 14,
   "metadata": {},
   "outputs": [
    {
     "name": "stdout",
     "output_type": "stream",
     "text": [
      "The function arguments are: 2 5 (this is done inside the function!)\n"
     ]
    }
   ],
   "source": [
    "product_of_inputs = this_is_the_function_name(2,5)"
   ]
  },
  {
   "cell_type": "code",
   "execution_count": 15,
   "metadata": {},
   "outputs": [
    {
     "name": "stdout",
     "output_type": "stream",
     "text": [
      "Their product is: 10 (this is done outside the function!)\n"
     ]
    }
   ],
   "source": [
    "print('Their product is:', product_of_inputs, '(this is done outside the function!)')"
   ]
  },
  {
   "cell_type": "markdown",
   "metadata": {},
   "source": [
    "#### Exercise"
   ]
  },
  {
   "cell_type": "markdown",
   "metadata": {},
   "source": [
    "1. Change the values of the arguments in the function and check its output.\n",
    "2. Try calling the function by giving it the wrong number of arguments (not 2) or not assigning the function call to a variable (no `product_of_inputs =`).\n",
    "3. Declare a variable inside the function and test to see where it exists. (Hint: can you print it from outside the function?)\n",
    "4. Explore what happens when a variable both inside and outside the function have the same name. What happens to the global variable when you change the value of the local variable?"
   ]
  },
  {
   "cell_type": "markdown",
   "metadata": {},
   "source": [
    "### Breakdown of the Procedure & a First Function"
   ]
  },
  {
   "cell_type": "markdown",
   "metadata": {},
   "source": [
    "What do we need to get done?\n",
    "\n",
    "* go through each year,\n",
    "* for each year,\n",
    "    * get data,\n",
    "    * write output.\n",
    "\n",
    "Each of those **chunks** could be a **separate function**.\n",
    "\n",
    "**Start simple:** let's focus on **outputting data for one year**."
   ]
  },
  {
   "cell_type": "code",
   "execution_count": 16,
   "metadata": {},
   "outputs": [],
   "source": [
    "def one_year_csv_writer(this_year, all_data):\n",
    "    \"\"\"\n",
    "    Writes a CSV file for data from a given year.\n",
    "\n",
    "    this_year --- year for which data is extracted\n",
    "    all_data --- DataFrame with multi-year data\n",
    "    \"\"\"\n",
    "\n",
    "    # Select data for the year\n",
    "    surveys_year = all_data[all_data.year == this_year]\n",
    "\n",
    "    # Write the new DataFrame to a csv file\n",
    "    filename = 'data/yearly_files/function_surveys' + str(this_year) + '.csv'\n",
    "    surveys_year.to_csv(filename)"
   ]
  },
  {
   "cell_type": "markdown",
   "metadata": {},
   "source": [
    "Note the **docstring**..."
   ]
  },
  {
   "cell_type": "code",
   "execution_count": 17,
   "metadata": {},
   "outputs": [
    {
     "data": {
      "text/plain": [
       "\u001b[0;31mSignature:\u001b[0m \u001b[0mone_year_csv_writer\u001b[0m\u001b[0;34m(\u001b[0m\u001b[0mthis_year\u001b[0m\u001b[0;34m,\u001b[0m \u001b[0mall_data\u001b[0m\u001b[0;34m)\u001b[0m\u001b[0;34m\u001b[0m\u001b[0m\n",
       "\u001b[0;31mDocstring:\u001b[0m\n",
       "Writes a CSV file for data from a given year.\n",
       "\n",
       "this_year --- year for which data is extracted\n",
       "all_data --- DataFrame with multi-year data\n",
       "\u001b[0;31mFile:\u001b[0m      ~/Public/Box Sync/BtPjkt/Computing/SciPy2016/SWC/python-ecology-lesson/<ipython-input-16-a70444c27d4a>\n",
       "\u001b[0;31mType:\u001b[0m      function\n"
      ]
     },
     "metadata": {},
     "output_type": "display_data"
    }
   ],
   "source": [
    "one_year_csv_writer?"
   ]
  },
  {
   "cell_type": "markdown",
   "metadata": {},
   "source": [
    "Now **try it** and **check the result**."
   ]
  },
  {
   "cell_type": "code",
   "execution_count": 18,
   "metadata": {},
   "outputs": [],
   "source": [
    "one_year_csv_writer(2002,surveys_df)"
   ]
  },
  {
   "cell_type": "markdown",
   "metadata": {},
   "source": [
    "### Repackage the Entire Loop"
   ]
  },
  {
   "cell_type": "markdown",
   "metadata": {},
   "source": [
    "Now create a function that **encapsulates the entire loop**.\n",
    "\n",
    "We'll use the function **`range(m, n)`**.  This essentially gives a **tuple** of **whole numbers** from `m` to `n`.\n",
    "\n",
    "But it's like a Python **slice**: include the **first argument**, exclude the **last**."
   ]
  },
  {
   "cell_type": "code",
   "execution_count": 19,
   "metadata": {},
   "outputs": [],
   "source": [
    "def yearly_data_csv_writer(start_year, end_year, all_data):\n",
    "    \"\"\"\n",
    "    Writes separate csv files for each year of data.\n",
    "\n",
    "    start_year --- the first year of data we want\n",
    "    end_year --- the last year of data we want\n",
    "    all_data --- DataFrame with multi-year data\n",
    "    \"\"\"\n",
    "\n",
    "    # \"end_year\" is the last year of data we want to pull, so we loop to end_year+1\n",
    "    for year in range(start_year, end_year+1):\n",
    "        one_year_csv_writer(year, all_data)"
   ]
  },
  {
   "cell_type": "markdown",
   "metadata": {},
   "source": [
    "This code is\n",
    "\n",
    "* **reusable**,\n",
    "* **more general** than our original loop:\n",
    "    * we can extract a **subset of years** rather than all at once."
   ]
  },
  {
   "cell_type": "code",
   "execution_count": 20,
   "metadata": {},
   "outputs": [],
   "source": [
    "# Load the data into a DataFrame\n",
    "surveys_df = pd.read_csv('data/surveys.csv')\n",
    "\n",
    "# Create csv files\n",
    "yearly_data_csv_writer(1977, 2002, surveys_df)"
   ]
  },
  {
   "cell_type": "markdown",
   "metadata": {},
   "source": [
    "#### Warning"
   ]
  },
  {
   "cell_type": "markdown",
   "metadata": {},
   "source": [
    "> If you **edit** a function, **rerun the cell** containing the definition for changes to **take effect**."
   ]
  },
  {
   "cell_type": "markdown",
   "metadata": {},
   "source": [
    "#### Exercise"
   ]
  },
  {
   "cell_type": "markdown",
   "metadata": {},
   "source": [
    "1. Add two arguments to the functions we wrote that take the path of the directory where the files will be written and the root of the file name. Create a new set of files with a different name in a different directory.\n",
    "2. How could you use the function `yearly_data_csv_writer` to create a csv file for only one year? (Hint: think about the syntax for `range`.)\n",
    "3. Make the functions return a list of the files they have written. There are many ways you can do this (and you should try them all!): either of the functions can print to screen, either can use a return statement to give back numbers or strings to their function call, or you can use some combination of the two. You could also try using the `os` library to list the contents of directories.\n",
    "4. Explore what happens when variables are declared inside each of the functions versus in the main (non-indented) body of your code. What is the scope of the variables (where are they visible)? What happens when they have the same name but are given different values?"
   ]
  },
  {
   "cell_type": "markdown",
   "metadata": {},
   "source": [
    "### Simplify the Interface"
   ]
  },
  {
   "cell_type": "markdown",
   "metadata": {},
   "source": [
    "Let's make the functions **easier to use**.\n",
    "\n",
    "Make the functions **default to full range of years** if not specified otherwise.\n",
    "\n",
    "Use **keyword arguments**... arguments with an equal sign & default value."
   ]
  },
  {
   "cell_type": "markdown",
   "metadata": {},
   "source": [
    "#### Test the Basic Idea"
   ]
  },
  {
   "cell_type": "code",
   "execution_count": 21,
   "metadata": {},
   "outputs": [],
   "source": [
    "def yearly_data_arg_test(all_data, start_year = 1977, end_year = 2002):\n",
    "    \"\"\"\n",
    "    Modified from yearly_data_csv_writer to test default argument values!\n",
    "    \n",
    "    start_year --- the first year of data we want --- default: 1977\n",
    "    end_year --- the last year of data we want --- default: 2002\n",
    "    all_data --- DataFrame with multi-year data\n",
    "    \"\"\"\n",
    "    \n",
    "    return start_year, end_year"
   ]
  },
  {
   "cell_type": "markdown",
   "metadata": {},
   "source": [
    "Check."
   ]
  },
  {
   "cell_type": "code",
   "execution_count": 22,
   "metadata": {},
   "outputs": [
    {
     "name": "stdout",
     "output_type": "stream",
     "text": [
      "Both optional arguments:\t 1988 1993\n"
     ]
    }
   ],
   "source": [
    "start,end = yearly_data_arg_test(surveys_df, 1988, 1993)\n",
    "print('Both optional arguments:\\t', start, end)"
   ]
  },
  {
   "cell_type": "code",
   "execution_count": 23,
   "metadata": {},
   "outputs": [
    {
     "name": "stdout",
     "output_type": "stream",
     "text": [
      "Default values:\t\t\t 1977 2002\n"
     ]
    }
   ],
   "source": [
    "start,end = yearly_data_arg_test(surveys_df)\n",
    "print('Default values:\\t\\t\\t', start, end)"
   ]
  },
  {
   "cell_type": "markdown",
   "metadata": {},
   "source": [
    "#### More General Still"
   ]
  },
  {
   "cell_type": "markdown",
   "metadata": {},
   "source": [
    "The function should **check the data** to get the **default values!**\n",
    "\n",
    "Use **`None`** to signal that **values are missing**."
   ]
  },
  {
   "cell_type": "code",
   "execution_count": 24,
   "metadata": {},
   "outputs": [],
   "source": [
    "def yearly_data_arg_test(all_data, start_year = None, end_year = None):\n",
    "    \"\"\"\n",
    "    Modified from yearly_data_csv_writer to test default argument values!\n",
    "    \n",
    "    start_year --- the first year of data we want --- default: None - check all_data\n",
    "    end_year --- the last year of data we want --- default: None - check all_data\n",
    "    all_data --- DataFrame with multi-year data\n",
    "    \"\"\"\n",
    "    \n",
    "    if not start_year:\n",
    "        start_year = min(all_data.year)\n",
    "    if not end_year:\n",
    "        end_year = max(all_data.year)\n",
    "    \n",
    "    return start_year, end_year"
   ]
  },
  {
   "cell_type": "markdown",
   "metadata": {},
   "source": [
    "Check."
   ]
  },
  {
   "cell_type": "code",
   "execution_count": 25,
   "metadata": {},
   "outputs": [
    {
     "name": "stdout",
     "output_type": "stream",
     "text": [
      "Both optional arguments:\t 1988 1993\n",
      "Default values:\t\t\t 1977 2002\n"
     ]
    }
   ],
   "source": [
    "start,end = yearly_data_arg_test(surveys_df, 1988, 1993)\n",
    "print('Both optional arguments:\\t', start, end)\n",
    "\n",
    "start,end = yearly_data_arg_test(surveys_df)\n",
    "print('Default values:\\t\\t\\t', start, end)"
   ]
  },
  {
   "cell_type": "markdown",
   "metadata": {},
   "source": [
    "##### Exercise"
   ]
  },
  {
   "cell_type": "markdown",
   "metadata": {},
   "source": [
    "1. What type of object corresponds to a variable declared as `None`? (Hint: create a variable set to `None` and use the function `type()`.)\n",
    "\n",
    "2. Compare the behavior of the function `yearly_data_arg_test` when the arguments have `None` as a default and when they do not have default values.\n",
    "\n",
    "3. What happens if you only include a value for `start_year` in the function call? Can you write the function call with only a value for `end_year`? (Hint: think about how the function must be assigning values to each of the arguments - this is related to the need to put the arguments without default values before those with default values in the function definition!)"
   ]
  },
  {
   "cell_type": "markdown",
   "metadata": {},
   "source": [
    "## `if` Conditions"
   ]
  },
  {
   "cell_type": "markdown",
   "metadata": {},
   "source": [
    "**The Point:** only **execute** a code block if a **certain condition** is met.\n",
    "\n",
    "**The Structure:**\n",
    "\n",
    "* the **condition** needs to be something with a **Boolean value**, either `True` or `False`;\n",
    "* the **code block** must be **indented**;\n",
    "* you have **optional** follow-ups:\n",
    "    * **else if:** if the previous condition isn't true, **try another condition**;\n",
    "    * **else:** when **all else fails**, do this."
   ]
  },
  {
   "cell_type": "markdown",
   "metadata": {},
   "source": [
    "Example."
   ]
  },
  {
   "cell_type": "code",
   "execution_count": 26,
   "metadata": {},
   "outputs": [
    {
     "name": "stdout",
     "output_type": "stream",
     "text": [
      "a is a positive number\n"
     ]
    }
   ],
   "source": [
    "a = 5\n",
    "\n",
    "if (a < 0): # meets first condition?\n",
    "    # if a IS less than zero\n",
    "    print('a is a negative number')\n",
    "\n",
    "elif (a > 0): # did not meet first condition. meets second condition?\n",
    "    # if a ISN'T less than zero and IS more than zero\n",
    "    print('a is a positive number')\n",
    "\n",
    "else: # met neither condition\n",
    "    # if a ISN'T less than zero and ISN'T more than zero\n",
    "    print('a must be zero!')"
   ]
  },
  {
   "cell_type": "markdown",
   "metadata": {},
   "source": [
    "**Examine** the code of our function:\n",
    "\n",
    "```python\n",
    "if not start_year:\n",
    "    start_year = min(all_data.year)\n",
    "if not end_year:\n",
    "    end_year = max(all_data.year)\n",
    "```\n",
    "\n",
    "**The Logic:**\n",
    "\n",
    "* `start_year`'s **default value** is `None`.\n",
    "    * `None` has Boolean value **`False`**\n",
    "    * `not None` must be **`True`**\n",
    "        * So this code **executes** when **`start_year` is `None`**\n",
    "* If `start_year`'s value is **some year**,\n",
    "    * a year is a **positive number**,\n",
    "        * non-zero numbers have **Boolean value `True`**,\n",
    "        * zero has **Boolean value `False`**,\n",
    "        * so a **year** is **`True`**;\n",
    "    * then **`not start_year`** is **`False`**\n",
    "        * so this code **does not** execute when **`start_year`** is some year."
   ]
  },
  {
   "cell_type": "markdown",
   "metadata": {},
   "source": [
    "**Note to self:** the lesson doesn't really explain here how we know what variables get evaluated as `True` and what variables don't."
   ]
  },
  {
   "cell_type": "markdown",
   "metadata": {},
   "source": [
    "## Keywords"
   ]
  },
  {
   "cell_type": "markdown",
   "metadata": {},
   "source": [
    "When we **pass values** values to a function, they **get assigned** in the **order they are passed**.\n",
    "\n",
    "In our function:\n",
    "\n",
    "* the first value passed goes to **`all_data`**,\n",
    "* the second value to **`start_year`**,\n",
    "* the last value to **`end_year`**.\n",
    "\n",
    "If we only give **two values**, then\n",
    "\n",
    "* these are assigned to the **first two arguments**, and\n",
    "* the **third argument** takes its **default value**.\n",
    "\n",
    "If we only give **one value**, then\n",
    "\n",
    "* this is assigned to the **first argument**, and\n",
    "* the **second argument** takes its **default value**, and\n",
    "* the **third argument** takes its **default value**."
   ]
  },
  {
   "cell_type": "markdown",
   "metadata": {},
   "source": [
    "If we want to **change this**, we can use **argument names** or **keywords** directly:\n",
    "\n",
    "> tell the function **which argument** should get **which value**."
   ]
  },
  {
   "cell_type": "code",
   "execution_count": 28,
   "metadata": {},
   "outputs": [
    {
     "name": "stdout",
     "output_type": "stream",
     "text": [
      "Default values:\t\t\t 1977 2002\n",
      "No keywords:\t\t\t 1988 1993\n",
      "Both keywords, in order:\t 1988 1993\n",
      "Both keywords, flipped:\t\t 1988 1993\n",
      "One keyword, default end:\t 1988 2002\n",
      "One keyword, default start:\t 1977 1993\n"
     ]
    }
   ],
   "source": [
    "start,end = yearly_data_arg_test(surveys_df)\n",
    "print('Default values:\\t\\t\\t', start, end)\n",
    "\n",
    "start,end = yearly_data_arg_test(surveys_df, 1988, 1993)\n",
    "print('No keywords:\\t\\t\\t', start, end)\n",
    "\n",
    "start,end = yearly_data_arg_test(surveys_df, start_year = 1988, end_year = 1993)\n",
    "print('Both keywords, in order:\\t', start, end)\n",
    "\n",
    "start,end = yearly_data_arg_test(surveys_df, end_year = 1993, start_year = 1988)\n",
    "print('Both keywords, flipped:\\t\\t', start, end)\n",
    "\n",
    "start,end = yearly_data_arg_test(surveys_df, start_year = 1988)\n",
    "print('One keyword, default end:\\t', start, end)\n",
    "\n",
    "start,end = yearly_data_arg_test(surveys_df, end_year = 1993)\n",
    "print('One keyword, default start:\\t', start, end)"
   ]
  },
  {
   "cell_type": "markdown",
   "metadata": {},
   "source": [
    "### Exercise"
   ]
  },
  {
   "cell_type": "markdown",
   "metadata": {},
   "source": [
    "1. Rewrite the `one_year_csv_writer` and `yearly_data_csv_writer` functions to have keyword arguments with default values.\n",
    "\n",
    "2. Modify the functions so that they don't create yearly files if there is no data for a given year and display an alert to the user. (Hint: use conditional statements and `if` loops to do this. For an extra challenge, use `try` statements!)\n",
    "\n",
    "3. The code below checks to see whether a directory exists and creates one if it doesn't. Add some code to your function that writes out the CSV files, to check for a directory to write to.\n",
    "    ```python\n",
    "    if 'dirNameHere' in os.listdir('.'):\n",
    "        print('Processed directory exists')\n",
    "    else:\n",
    "        os.mkdir('dirNameHere')\n",
    "        print('Processed directory created')\n",
    "    ```\n",
    "\n",
    "4. The code that you have written so far to loop through the years is good, however it is not necessarily reproducible with different datasets. For instance, what happens to the code if we have additional years of data in our CSV files? Using the tools that you learned in the previous activities, make a list of all years represented in the data. Then create a loop to process your data, that begins at the earliest year and ends at the latest year using that list.\n",
    "\n",
    "    * HINT: you can create a loop with a list as follows:\n",
    "        ```python\n",
    "        for years in yearList:\n",
    "        ```"
   ]
  },
  {
   "cell_type": "code",
   "execution_count": null,
   "metadata": {},
   "outputs": [],
   "source": []
  }
 ],
 "metadata": {
  "kernelspec": {
   "display_name": "Python [default]",
   "language": "python",
   "name": "python3"
  },
  "language_info": {
   "codemirror_mode": {
    "name": "ipython",
    "version": 3
   },
   "file_extension": ".py",
   "mimetype": "text/x-python",
   "name": "python",
   "nbconvert_exporter": "python",
   "pygments_lexer": "ipython3",
   "version": "3.5.2"
  }
 },
 "nbformat": 4,
 "nbformat_minor": 1
}
