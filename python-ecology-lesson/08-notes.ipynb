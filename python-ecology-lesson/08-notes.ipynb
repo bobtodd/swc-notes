{
 "cells": [
  {
   "cell_type": "markdown",
   "metadata": {},
   "source": [
    "# Lesson 8: Accessing SQLite Databases Using Python & Pandas"
   ]
  },
  {
   "cell_type": "markdown",
   "metadata": {},
   "source": [
    "These are some notes for [Data Carpentry](http://www.datacarpentry.org)'s tutorial [*Data Analysis and Visualization in Python*](http://www.datacarpentry.org/python-ecology-lesson/).  The web page for this lesson can be found [here](http://www.datacarpentry.org/python-ecology-lesson/08-working-with-sql)."
   ]
  },
  {
   "cell_type": "markdown",
   "metadata": {},
   "source": [
    "## Goal\n",
    "\n",
    "> Interact with a SQL database from Python"
   ]
  },
  {
   "cell_type": "markdown",
   "metadata": {},
   "source": [
    "## The Idea"
   ]
  },
  {
   "cell_type": "markdown",
   "metadata": {},
   "source": [
    "So far we've imported an **entire data table as a whole**.  We **store** it and **manipulate** it in memory **as a whole**.\n",
    "\n",
    "For **big databases**, that can be **prohibitive**.\n",
    "\n",
    "If the data is in a **SQL database**, you can query to receive only the **data you want**."
   ]
  },
  {
   "cell_type": "markdown",
   "metadata": {},
   "source": [
    "## The `sqlite3` Module"
   ]
  },
  {
   "cell_type": "markdown",
   "metadata": {},
   "source": [
    "The [`sqlite3`](https://docs.python.org/3/library/sqlite3.html) module allows Python to **interact with** a SQLite database."
   ]
  },
  {
   "cell_type": "code",
   "execution_count": 1,
   "metadata": {},
   "outputs": [
    {
     "name": "stdout",
     "output_type": "stream",
     "text": [
      "('AB', 'Amphispiza', 'bilineata', 'Bird')\n",
      "('AH', 'Ammospermophilus', 'harrisi', 'Rodent-not censused')\n",
      "('AS', 'Ammodramus', 'savannarum', 'Bird')\n",
      "('BA', 'Baiomys', 'taylori', 'Rodent')\n",
      "('CB', 'Campylorhynchus', 'brunneicapillus', 'Bird')\n",
      "('CM', 'Calamospiza', 'melanocorys', 'Bird')\n",
      "('CQ', 'Callipepla', 'squamata', 'Bird')\n",
      "('CS', 'Crotalus', 'scutalatus', 'Reptile')\n",
      "('CT', 'Cnemidophorus', 'tigris', 'Reptile')\n",
      "('CU', 'Cnemidophorus', 'uniparens', 'Reptile')\n",
      "('CV', 'Crotalus', 'viridis', 'Reptile')\n",
      "('DM', 'Dipodomys', 'merriami', 'Rodent')\n",
      "('DO', 'Dipodomys', 'ordii', 'Rodent')\n",
      "('DS', 'Dipodomys', 'spectabilis', 'Rodent')\n",
      "('DX', 'Dipodomys', 'sp.', 'Rodent')\n",
      "('EO', 'Eumeces', 'obsoletus', 'Reptile')\n",
      "('GS', 'Gambelia', 'silus', 'Reptile')\n",
      "('NA', 'Neotoma', 'albigula', 'Rodent')\n",
      "('NX', 'Neotoma', 'sp.', 'Rodent')\n",
      "('OL', 'Onychomys', 'leucogaster', 'Rodent')\n",
      "('OT', 'Onychomys', 'torridus', 'Rodent')\n",
      "('OX', 'Onychomys', 'sp.', 'Rodent')\n",
      "('PB', 'Chaetodipus', 'baileyi', 'Rodent')\n",
      "('PC', 'Pipilo', 'chlorurus', 'Bird')\n",
      "('PE', 'Peromyscus', 'eremicus', 'Rodent')\n",
      "('PF', 'Perognathus', 'flavus', 'Rodent')\n",
      "('PG', 'Pooecetes', 'gramineus', 'Bird')\n",
      "('PH', 'Perognathus', 'hispidus', 'Rodent')\n",
      "('PI', 'Chaetodipus', 'intermedius', 'Rodent')\n",
      "('PL', 'Peromyscus', 'leucopus', 'Rodent')\n",
      "('PM', 'Peromyscus', 'maniculatus', 'Rodent')\n",
      "('PP', 'Chaetodipus', 'penicillatus', 'Rodent')\n",
      "('PU', 'Pipilo', 'fuscus', 'Bird')\n",
      "('PX', 'Chaetodipus', 'sp.', 'Rodent')\n",
      "('RF', 'Reithrodontomys', 'fulvescens', 'Rodent')\n",
      "('RM', 'Reithrodontomys', 'megalotis', 'Rodent')\n",
      "('RO', 'Reithrodontomys', 'montanus', 'Rodent')\n",
      "('RX', 'Reithrodontomys', 'sp.', 'Rodent')\n",
      "('SA', 'Sylvilagus', 'audubonii', 'Rabbit')\n",
      "('SB', 'Spizella', 'breweri', 'Bird')\n",
      "('SC', 'Sceloporus', 'clarki', 'Reptile')\n",
      "('SF', 'Sigmodon', 'fulviventer', 'Rodent')\n",
      "('SH', 'Sigmodon', 'hispidus', 'Rodent')\n",
      "('SO', 'Sigmodon', 'ochrognathus', 'Rodent')\n",
      "('SS', 'Spermophilus', 'spilosoma', 'Rodent-not censused')\n",
      "('ST', 'Spermophilus', 'tereticaudus', 'Rodent-not censused')\n",
      "('SU', 'Sceloporus', 'undulatus', 'Reptile')\n",
      "('SX', 'Sigmodon', 'sp.', 'Rodent')\n",
      "('UL', 'Lizard', 'sp.', 'Reptile')\n",
      "('UP', 'Pipilo', 'sp.', 'Bird')\n",
      "('UR', 'Rodent', 'sp.', 'Rodent')\n",
      "('US', 'Sparrow', 'sp.', 'Bird')\n",
      "('XX', None, None, 'Zero Trapping Success')\n",
      "('ZL', 'Zonotrichia', 'leucophrys', 'Bird')\n",
      "('ZM', 'Zenaida', 'macroura', 'Bird')\n"
     ]
    }
   ],
   "source": [
    "import sqlite3\n",
    "\n",
    "# Create a SQL connection to our SQLite database\n",
    "con = sqlite3.connect(\"data/portal_mammals.sqlite\")\n",
    "\n",
    "cur = con.cursor()\n",
    "\n",
    "# the result of a \"cursor.execute\" can be iterated over by row\n",
    "for row in cur.execute('SELECT * FROM species;'):\n",
    "    print(row)\n",
    "\n",
    "#Be sure to close the connection.\n",
    "con.close()"
   ]
  },
  {
   "cell_type": "markdown",
   "metadata": {},
   "source": [
    "## Interface between SQLite & Pandas"
   ]
  },
  {
   "cell_type": "markdown",
   "metadata": {},
   "source": [
    "We can read a SQLite query into a Pandas DataFrame."
   ]
  },
  {
   "cell_type": "code",
   "execution_count": 2,
   "metadata": {},
   "outputs": [
    {
     "name": "stdout",
     "output_type": "stream",
     "text": [
      "   record_id  month  day  year  plot species sex  wgt\n",
      "0          1      7   16  1977     2      NA   M  NaN\n",
      "1          2      7   16  1977     3      NA   M  NaN\n",
      "2          3      7   16  1977     2      DM   F  NaN\n",
      "3          4      7   16  1977     7      DM   M  NaN\n",
      "4          5      7   16  1977     3      DM   M  NaN\n"
     ]
    }
   ],
   "source": [
    "import pandas as pd\n",
    "import sqlite3\n",
    "\n",
    "# Read sqlite query results into a pandas DataFrame\n",
    "con = sqlite3.connect(\"data/portal_mammals.sqlite\")\n",
    "df = pd.read_sql_query(\"SELECT * from surveys\", con)\n",
    "\n",
    "# verify that result of SQL query is stored in the dataframe\n",
    "print(df.head())\n",
    "\n",
    "con.close()"
   ]
  },
  {
   "cell_type": "markdown",
   "metadata": {},
   "source": [
    "## Data Storage: CSV vs. SQLite"
   ]
  },
  {
   "cell_type": "markdown",
   "metadata": {},
   "source": [
    "Read/write times can be **quicker** when accessing **SQLite** than when accessing CSV.\n",
    "\n",
    "The time difference generally **increases with the size** of the database.\n",
    "\n",
    "See [these benchmarks](http://sebastianraschka.com/Articles/2013_sqlite_database.html#results-and-conclusions)."
   ]
  },
  {
   "cell_type": "markdown",
   "metadata": {},
   "source": [
    "### Exercise"
   ]
  },
  {
   "cell_type": "markdown",
   "metadata": {},
   "source": [
    "1. Create a query that contains survey data collected between 1998 - 2001 for observations of sex \"male\" or \"female\" that includes observation's genus and species and plot type for the sample. How many records are returned?\n",
    "\n",
    "2. Create a dataframe that contains the total number of observations (count) made for all years, and sum of observation weights for each plot, ordered by plot ID."
   ]
  },
  {
   "cell_type": "code",
   "execution_count": null,
   "metadata": {},
   "outputs": [],
   "source": []
  }
 ],
 "metadata": {
  "kernelspec": {
   "display_name": "Python [default]",
   "language": "python",
   "name": "python3"
  },
  "language_info": {
   "codemirror_mode": {
    "name": "ipython",
    "version": 3
   },
   "file_extension": ".py",
   "mimetype": "text/x-python",
   "name": "python",
   "nbconvert_exporter": "python",
   "pygments_lexer": "ipython3",
   "version": "3.5.2"
  }
 },
 "nbformat": 4,
 "nbformat_minor": 1
}
